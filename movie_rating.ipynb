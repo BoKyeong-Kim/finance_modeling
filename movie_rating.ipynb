{
 "cells": [
  {
   "cell_type": "markdown",
   "metadata": {},
   "source": [
    "<h2>네이버 영화평점 기준의 영화의 평점 변화확인</h2>"
   ]
  },
  {
   "cell_type": "code",
   "execution_count": 3,
   "metadata": {},
   "outputs": [],
   "source": [
    "from bs4 import BeautifulSoup\n",
    "import pandas as pd"
   ]
  },
  {
   "cell_type": "code",
   "execution_count": 11,
   "metadata": {},
   "outputs": [
    {
     "data": {
      "text/plain": [
       "[<meta content=\"text/html; charset=utf-8\" http-equiv=\"Content-Type\"/>,\n",
       " <meta content=\"IE=edge\" http-equiv=\"X-UA-Compatible\"/>,\n",
       " <meta content=\"http://imgmovie.naver.com/today/naverme/naverme_profile.jpg\" property=\"me2:image\">\n",
       " <meta content=\"네이버영화 \" property=\"me2:post_tag\">\n",
       " <meta content=\"네이버영화\" property=\"me2:category1\"/>\n",
       " <meta content=\"\" property=\"me2:category2\"/>\n",
       " <meta content=\"랭킹 : 네이버 영화\" property=\"og:title\"/>\n",
       " <meta content=\"영화, 영화인, 예매, 박스오피스 랭킹 정보 제공\" property=\"og:description\"/>\n",
       " <meta content=\"article\" property=\"og:type\"/>\n",
       " <meta content=\"https://movie.naver.com/movie/sdb/rank/rmovie.nhn?sel=sur&amp;date=20190422\" property=\"og:url\"/>\n",
       " <meta content=\"http://static.naver.net/m/movie/icons/OG_270_270.png\" property=\"og:image\"/><!-- http://static.naver.net/m/movie/im/navermovie.jpg -->\n",
       " <meta content=\"http://imgmovie.naver.com/today/naverme/naverme_profile.jpg\" property=\"og:article:thumbnailUrl\"/>\n",
       " <meta content=\"네이버 영화\" property=\"og:article:author\"/>\n",
       " <meta content=\"https://movie.naver.com/\" property=\"og:article:author:url\"/>\n",
       " <link href=\"https://ssl.pstatic.net/static/m/movie/icons/naver_movie_favicon.ico\" rel=\"shortcut icon\" type=\"image/x-icon\"/>\n",
       " <title>랭킹 : 네이버 영화</title>\n",
       " <link href=\"/common/css/movie_tablet.css?20190313140445\" rel=\"stylesheet\" type=\"text/css\"/>\n",
       " <link href=\"/common/css/common.css?20190313140445\" rel=\"stylesheet\" type=\"text/css\"/>\n",
       " <link href=\"/common/css/layout.css?20190313140445\" rel=\"stylesheet\" type=\"text/css\"/>\n",
       " <link href=\"/common/css/old_default.css?20190313140445\" rel=\"stylesheet\" type=\"text/css\"/>\n",
       " <link href=\"/common/css/old_layout.css?20190313140445\" rel=\"stylesheet\" type=\"text/css\"/>\n",
       " <link href=\"/common/css/old_common.css?20190313140445\" rel=\"stylesheet\" type=\"text/css\"/>\n",
       " <link href=\"/common/css/old_super_db.css?20190313140445\" rel=\"stylesheet\" type=\"text/css\"/>\n",
       " <script src=\"/common/js/default-min.js\" type=\"text/javascript\"></script>\n",
       " </meta></meta>,\n",
       " <meta content=\"네이버영화 \" property=\"me2:post_tag\">\n",
       " <meta content=\"네이버영화\" property=\"me2:category1\"/>\n",
       " <meta content=\"\" property=\"me2:category2\"/>\n",
       " <meta content=\"랭킹 : 네이버 영화\" property=\"og:title\"/>\n",
       " <meta content=\"영화, 영화인, 예매, 박스오피스 랭킹 정보 제공\" property=\"og:description\"/>\n",
       " <meta content=\"article\" property=\"og:type\"/>\n",
       " <meta content=\"https://movie.naver.com/movie/sdb/rank/rmovie.nhn?sel=sur&amp;date=20190422\" property=\"og:url\"/>\n",
       " <meta content=\"http://static.naver.net/m/movie/icons/OG_270_270.png\" property=\"og:image\"/><!-- http://static.naver.net/m/movie/im/navermovie.jpg -->\n",
       " <meta content=\"http://imgmovie.naver.com/today/naverme/naverme_profile.jpg\" property=\"og:article:thumbnailUrl\"/>\n",
       " <meta content=\"네이버 영화\" property=\"og:article:author\"/>\n",
       " <meta content=\"https://movie.naver.com/\" property=\"og:article:author:url\"/>\n",
       " <link href=\"https://ssl.pstatic.net/static/m/movie/icons/naver_movie_favicon.ico\" rel=\"shortcut icon\" type=\"image/x-icon\"/>\n",
       " <title>랭킹 : 네이버 영화</title>\n",
       " <link href=\"/common/css/movie_tablet.css?20190313140445\" rel=\"stylesheet\" type=\"text/css\"/>\n",
       " <link href=\"/common/css/common.css?20190313140445\" rel=\"stylesheet\" type=\"text/css\"/>\n",
       " <link href=\"/common/css/layout.css?20190313140445\" rel=\"stylesheet\" type=\"text/css\"/>\n",
       " <link href=\"/common/css/old_default.css?20190313140445\" rel=\"stylesheet\" type=\"text/css\"/>\n",
       " <link href=\"/common/css/old_layout.css?20190313140445\" rel=\"stylesheet\" type=\"text/css\"/>\n",
       " <link href=\"/common/css/old_common.css?20190313140445\" rel=\"stylesheet\" type=\"text/css\"/>\n",
       " <link href=\"/common/css/old_super_db.css?20190313140445\" rel=\"stylesheet\" type=\"text/css\"/>\n",
       " <script src=\"/common/js/default-min.js\" type=\"text/javascript\"></script>\n",
       " </meta>,\n",
       " <meta content=\"네이버영화\" property=\"me2:category1\"/>,\n",
       " <meta content=\"\" property=\"me2:category2\"/>,\n",
       " <meta content=\"랭킹 : 네이버 영화\" property=\"og:title\"/>,\n",
       " <meta content=\"영화, 영화인, 예매, 박스오피스 랭킹 정보 제공\" property=\"og:description\"/>,\n",
       " <meta content=\"article\" property=\"og:type\"/>,\n",
       " <meta content=\"https://movie.naver.com/movie/sdb/rank/rmovie.nhn?sel=sur&amp;date=20190422\" property=\"og:url\"/>,\n",
       " <meta content=\"http://static.naver.net/m/movie/icons/OG_270_270.png\" property=\"og:image\"/>,\n",
       " <meta content=\"http://imgmovie.naver.com/today/naverme/naverme_profile.jpg\" property=\"og:article:thumbnailUrl\"/>,\n",
       " <meta content=\"네이버 영화\" property=\"og:article:author\"/>,\n",
       " <meta content=\"https://movie.naver.com/\" property=\"og:article:author:url\"/>,\n",
       " <link href=\"https://ssl.pstatic.net/static/m/movie/icons/naver_movie_favicon.ico\" rel=\"shortcut icon\" type=\"image/x-icon\"/>,\n",
       " <title>랭킹 : 네이버 영화</title>,\n",
       " <link href=\"/common/css/movie_tablet.css?20190313140445\" rel=\"stylesheet\" type=\"text/css\"/>,\n",
       " <link href=\"/common/css/common.css?20190313140445\" rel=\"stylesheet\" type=\"text/css\"/>,\n",
       " <link href=\"/common/css/layout.css?20190313140445\" rel=\"stylesheet\" type=\"text/css\"/>,\n",
       " <link href=\"/common/css/old_default.css?20190313140445\" rel=\"stylesheet\" type=\"text/css\"/>,\n",
       " <link href=\"/common/css/old_layout.css?20190313140445\" rel=\"stylesheet\" type=\"text/css\"/>,\n",
       " <link href=\"/common/css/old_common.css?20190313140445\" rel=\"stylesheet\" type=\"text/css\"/>,\n",
       " <link href=\"/common/css/old_super_db.css?20190313140445\" rel=\"stylesheet\" type=\"text/css\"/>,\n",
       " <script src=\"/common/js/default-min.js\" type=\"text/javascript\"></script>]"
      ]
     },
     "execution_count": 11,
     "metadata": {},
     "output_type": "execute_result"
    }
   ],
   "source": [
    "from urllib.request import urlopen\n",
    "#url 코드 길이 때문에 2개로 나눠서 표현\n",
    "#BeautifulSoup 모듈의 html.parser를 통해 해당 페이지 내용을 파싱\n",
    "url_base = \"https://movie.naver.com/\"\n",
    "url_syb = \"movie/sdb/rank/rmovie.nhn?sel=sur&date=20190422\"\n",
    "\n",
    "page = urlopen(url_base+url_syb)\n",
    "\n",
    "soup = BeautifulSoup(page, 'html.parser')\n",
    "soup.head()"
   ]
  },
  {
   "cell_type": "code",
   "execution_count": 12,
   "metadata": {},
   "outputs": [
    {
     "data": {
      "text/plain": [
       "[<div class=\"tit5\">\n",
       " <a href=\"/movie/bi/mi/basic.nhn?code=171539\" title=\"그린 북\">그린 북</a>\n",
       " </div>, <div class=\"tit5\">\n",
       " <a href=\"/movie/bi/mi/basic.nhn?code=174830\" title=\"가버나움\">가버나움</a>\n",
       " </div>, <div class=\"tit5\">\n",
       " <a href=\"/movie/bi/mi/basic.nhn?code=144906\" title=\"베일리 어게인\">베일리 어게인</a>\n",
       " </div>, <div class=\"tit5\">\n",
       " <a href=\"/movie/bi/mi/basic.nhn?code=156464\" title=\"보헤미안 랩소디\">보헤미안 랩소디</a>\n",
       " </div>, <div class=\"tit5\">\n",
       " <a href=\"/movie/bi/mi/basic.nhn?code=159845\" title=\"크게 될 놈\">크게 될 놈</a>\n",
       " </div>, <div class=\"tit5\">\n",
       " <a href=\"/movie/bi/mi/basic.nhn?code=182348\" title=\"로망\">로망</a>\n",
       " </div>, <div class=\"tit5\">\n",
       " <a href=\"/movie/bi/mi/basic.nhn?code=178434\" title=\"폴란드로 간 아이들\">폴란드로 간 아이들</a>\n",
       " </div>, <div class=\"tit5\">\n",
       " <a href=\"/movie/bi/mi/basic.nhn?code=175727\" title=\"극장판 헬로카봇 : 백악기 시대\">극장판 헬로카봇 : 백악기 시대</a>\n",
       " </div>, <div class=\"tit5\">\n",
       " <a href=\"/movie/bi/mi/basic.nhn?code=181717\" title=\"칠곡 가시나들\">칠곡 가시나들</a>\n",
       " </div>, <div class=\"tit5\">\n",
       " <a href=\"/movie/bi/mi/basic.nhn?code=10058\" title=\"벤허\">벤허</a>\n",
       " </div>]"
      ]
     },
     "execution_count": 12,
     "metadata": {},
     "output_type": "execute_result"
    }
   ],
   "source": [
    "#태그이름을 통해 해당되는내용 loading(find_all)\n",
    "soup.find_all('div','tit5', limit=10)"
   ]
  },
  {
   "cell_type": "code",
   "execution_count": 13,
   "metadata": {},
   "outputs": [
    {
     "data": {
      "text/plain": [
       "'그린 북'"
      ]
     },
     "execution_count": 13,
     "metadata": {},
     "output_type": "execute_result"
    }
   ],
   "source": [
    "#loading된 내용 중 1번째 영화제목 find\n",
    "soup.find_all('div','tit5')[0].a.string #a태그 안에 들어있음"
   ]
  },
  {
   "cell_type": "code",
   "execution_count": 14,
   "metadata": {},
   "outputs": [
    {
     "data": {
      "text/plain": [
       "'9.62'"
      ]
     },
     "execution_count": 14,
     "metadata": {},
     "output_type": "execute_result"
    }
   ],
   "source": [
    "#loading된 애용 중 1번째 영화 평점 find\n",
    "soup.find_all('td', 'point')[0].string"
   ]
  },
  {
   "cell_type": "code",
   "execution_count": 15,
   "metadata": {},
   "outputs": [
    {
     "data": {
      "text/plain": [
       "DatetimeIndex(['2018-07-01', '2018-07-02', '2018-07-03', '2018-07-04',\n",
       "               '2018-07-05', '2018-07-06', '2018-07-07', '2018-07-08',\n",
       "               '2018-07-09', '2018-07-10', '2018-07-11', '2018-07-12',\n",
       "               '2018-07-13', '2018-07-14', '2018-07-15', '2018-07-16',\n",
       "               '2018-07-17', '2018-07-18', '2018-07-19', '2018-07-20',\n",
       "               '2018-07-21', '2018-07-22', '2018-07-23', '2018-07-24',\n",
       "               '2018-07-25', '2018-07-26', '2018-07-27', '2018-07-28',\n",
       "               '2018-07-29', '2018-07-30', '2018-07-31', '2018-08-01',\n",
       "               '2018-08-02', '2018-08-03', '2018-08-04', '2018-08-05',\n",
       "               '2018-08-06', '2018-08-07', '2018-08-08', '2018-08-09',\n",
       "               '2018-08-10', '2018-08-11', '2018-08-12', '2018-08-13',\n",
       "               '2018-08-14', '2018-08-15', '2018-08-16', '2018-08-17',\n",
       "               '2018-08-18', '2018-08-19', '2018-08-20', '2018-08-21',\n",
       "               '2018-08-22', '2018-08-23', '2018-08-24', '2018-08-25',\n",
       "               '2018-08-26', '2018-08-27', '2018-08-28', '2018-08-29',\n",
       "               '2018-08-30', '2018-08-31', '2018-09-01', '2018-09-02',\n",
       "               '2018-09-03', '2018-09-04', '2018-09-05', '2018-09-06',\n",
       "               '2018-09-07', '2018-09-08', '2018-09-09', '2018-09-10',\n",
       "               '2018-09-11', '2018-09-12', '2018-09-13', '2018-09-14',\n",
       "               '2018-09-15', '2018-09-16', '2018-09-17', '2018-09-18',\n",
       "               '2018-09-19', '2018-09-20', '2018-09-21', '2018-09-22',\n",
       "               '2018-09-23', '2018-09-24', '2018-09-25', '2018-09-26',\n",
       "               '2018-09-27', '2018-09-28', '2018-09-29', '2018-09-30',\n",
       "               '2018-10-01', '2018-10-02', '2018-10-03', '2018-10-04',\n",
       "               '2018-10-05', '2018-10-06', '2018-10-07', '2018-10-08'],\n",
       "              dtype='datetime64[ns]', freq='D')"
      ]
     },
     "execution_count": 15,
     "metadata": {},
     "output_type": "execute_result"
    }
   ],
   "source": [
    "#날짜를 2018년 7월1일부터 100일간으로 정의하고 그 날짜에 해당하는 영화정보 전체를 Search\n",
    "date = pd.date_range('2018-7-1', periods=100, freq='D')\n",
    "date"
   ]
  },
  {
   "cell_type": "code",
   "execution_count": 16,
   "metadata": {},
   "outputs": [
    {
     "data": {
      "application/vnd.jupyter.widget-view+json": {
       "model_id": "6f725292d87f4ea382b1a389136d069b",
       "version_major": 2,
       "version_minor": 0
      },
      "text/plain": [
       "HBox(children=(IntProgress(value=0, description='1그룹', max=5, style=ProgressStyle(description_width='initial')…"
      ]
     },
     "metadata": {},
     "output_type": "display_data"
    },
    {
     "data": {
      "application/vnd.jupyter.widget-view+json": {
       "model_id": "a92296e1413348d2a0f7784ed4a3b95b",
       "version_major": 2,
       "version_minor": 0
      },
      "text/plain": [
       "HBox(children=(IntProgress(value=0, description='두번째', style=ProgressStyle(description_width='initial')), HTML…"
      ]
     },
     "metadata": {},
     "output_type": "display_data"
    },
    {
     "data": {
      "application/vnd.jupyter.widget-view+json": {
       "model_id": "1661cb7ecb454f1eaf4139772421bb1d",
       "version_major": 2,
       "version_minor": 0
      },
      "text/plain": [
       "HBox(children=(IntProgress(value=0, description='두번째', style=ProgressStyle(description_width='initial')), HTML…"
      ]
     },
     "metadata": {},
     "output_type": "display_data"
    },
    {
     "data": {
      "application/vnd.jupyter.widget-view+json": {
       "model_id": "c91926d0caad494da112cf05ef55409b",
       "version_major": 2,
       "version_minor": 0
      },
      "text/plain": [
       "HBox(children=(IntProgress(value=0, description='두번째', style=ProgressStyle(description_width='initial')), HTML…"
      ]
     },
     "metadata": {},
     "output_type": "display_data"
    },
    {
     "data": {
      "application/vnd.jupyter.widget-view+json": {
       "model_id": "47ae7b4867a84e9c8e47057c22438ac5",
       "version_major": 2,
       "version_minor": 0
      },
      "text/plain": [
       "HBox(children=(IntProgress(value=0, description='두번째', style=ProgressStyle(description_width='initial')), HTML…"
      ]
     },
     "metadata": {},
     "output_type": "display_data"
    },
    {
     "data": {
      "application/vnd.jupyter.widget-view+json": {
       "model_id": "f9b5ef1dac8d461ba3171ec2b1c75162",
       "version_major": 2,
       "version_minor": 0
      },
      "text/plain": [
       "HBox(children=(IntProgress(value=0, description='두번째', style=ProgressStyle(description_width='initial')), HTML…"
      ]
     },
     "metadata": {},
     "output_type": "display_data"
    },
    {
     "name": "stdout",
     "output_type": "stream",
     "text": [
      "\n"
     ]
    }
   ],
   "source": [
    "###tqdm -> 파이썬에서 프로세스의 진행상태를 표시하는 라이브러리\n",
    "from tqdm import tqdm_notebook\n",
    "import time\n",
    "\n",
    "for a in tqdm_notebook(range(5), desc ='1그룹'):\n",
    "    for b in tqdm_notebook(range(100), desc ='두번째'):\n",
    "        time.sleep(0.01)"
   ]
  },
  {
   "cell_type": "code",
   "execution_count": 17,
   "metadata": {},
   "outputs": [
    {
     "data": {
      "application/vnd.jupyter.widget-view+json": {
       "model_id": "f65c791f21d74f0d86c724ccdb9f5adf",
       "version_major": 2,
       "version_minor": 0
      },
      "text/plain": [
       "HBox(children=(IntProgress(value=0), HTML(value='')))"
      ]
     },
     "metadata": {},
     "output_type": "display_data"
    },
    {
     "name": "stdout",
     "output_type": "stream",
     "text": [
      "\n"
     ]
    }
   ],
   "source": [
    "###tqdm -> 파이썬에서 프로세스의 진행상태를 표시하는 라이브러리\n",
    "from tqdm import tqdm_notebook\n",
    "import time\n",
    "\n",
    "total = tqdm_notebook(range(100))\n",
    "for n in total:\n",
    "    time.sleep(0.1)"
   ]
  },
  {
   "cell_type": "markdown",
   "metadata": {},
   "source": [
    "<h2>네이버 영화 평점 기준 영화의 평점 변화확인</h2>"
   ]
  },
  {
   "cell_type": "markdown",
   "metadata": {},
   "source": [
    "   - 현재 날짜부터 100일간 영화 정보를 토대로 해당되는 영화 이름, 날짜, 평점을 구분하고 이를 변수 'movie_date','movie_name','movie_point'에 저장"
   ]
  },
  {
   "cell_type": "code",
   "execution_count": 18,
   "metadata": {},
   "outputs": [
    {
     "data": {
      "application/vnd.jupyter.widget-view+json": {
       "model_id": "43edafb578fe40ed9e2bbb793a91ed6d",
       "version_major": 2,
       "version_minor": 0
      },
      "text/plain": [
       "HBox(children=(IntProgress(value=0), HTML(value='')))"
      ]
     },
     "metadata": {},
     "output_type": "display_data"
    },
    {
     "name": "stdout",
     "output_type": "stream",
     "text": [
      "\n"
     ]
    }
   ],
   "source": [
    "#tqdm -> 파이썬에서 프로세스의 진행상태를 표시하는 라이브러리\n",
    "import urllib\n",
    "from tqdm import tqdm_notebook\n",
    "\n",
    "movie_date = []\n",
    "movie_name = []\n",
    "movie_point = []\n",
    "\n",
    "for today in tqdm_notebook(date):\n",
    "    html = \"https://movie.naver.com/movie/sdb/rank/rmovie.nhn?sel=cur&date={date}\"\n",
    "    response = urlopen(html.format(date=urllib.parse.quote(today.strftime('%Y%m%d'))))\n",
    "    soup = BeautifulSoup(response,'html.parser')\n",
    "    end = len(soup.find_all('td','point'))\n",
    "    \n",
    "    movie_date.extend([today for n in range(0,end)])\n",
    "    movie_name.extend([soup.find_all('div','tit5')[n].a.string for n in range(0, end)])\n",
    "    movie_point.extend([soup.find_all('td','point')[n].string for n in range(0,end)])"
   ]
  },
  {
   "cell_type": "code",
   "execution_count": 19,
   "metadata": {},
   "outputs": [
    {
     "data": {
      "text/html": [
       "<div>\n",
       "<style scoped>\n",
       "    .dataframe tbody tr th:only-of-type {\n",
       "        vertical-align: middle;\n",
       "    }\n",
       "\n",
       "    .dataframe tbody tr th {\n",
       "        vertical-align: top;\n",
       "    }\n",
       "\n",
       "    .dataframe thead th {\n",
       "        text-align: right;\n",
       "    }\n",
       "</style>\n",
       "<table border=\"1\" class=\"dataframe\">\n",
       "  <thead>\n",
       "    <tr style=\"text-align: right;\">\n",
       "      <th></th>\n",
       "      <th>date</th>\n",
       "      <th>name</th>\n",
       "      <th>point</th>\n",
       "    </tr>\n",
       "  </thead>\n",
       "  <tbody>\n",
       "    <tr>\n",
       "      <th>0</th>\n",
       "      <td>2018-07-01</td>\n",
       "      <td>당갈</td>\n",
       "      <td>9.60</td>\n",
       "    </tr>\n",
       "    <tr>\n",
       "      <th>1</th>\n",
       "      <td>2018-07-01</td>\n",
       "      <td>아일라</td>\n",
       "      <td>9.55</td>\n",
       "    </tr>\n",
       "    <tr>\n",
       "      <th>2</th>\n",
       "      <td>2018-07-01</td>\n",
       "      <td>허스토리</td>\n",
       "      <td>9.55</td>\n",
       "    </tr>\n",
       "    <tr>\n",
       "      <th>3</th>\n",
       "      <td>2018-07-01</td>\n",
       "      <td>마지막 황제</td>\n",
       "      <td>9.23</td>\n",
       "    </tr>\n",
       "    <tr>\n",
       "      <th>4</th>\n",
       "      <td>2018-07-01</td>\n",
       "      <td>킹 오브 프리즘 프라이드 더 히어로</td>\n",
       "      <td>9.22</td>\n",
       "    </tr>\n",
       "  </tbody>\n",
       "</table>\n",
       "</div>"
      ],
      "text/plain": [
       "        date                 name  point\n",
       "0 2018-07-01                   당갈   9.60\n",
       "1 2018-07-01                  아일라   9.55\n",
       "2 2018-07-01                 허스토리   9.55\n",
       "3 2018-07-01               마지막 황제   9.23\n",
       "4 2018-07-01  킹 오브 프리즘 프라이드 더 히어로   9.22"
      ]
     },
     "execution_count": 19,
     "metadata": {},
     "output_type": "execute_result"
    }
   ],
   "source": [
    "#저장된 내용을 pandas의 데이터 프레임 형태로 저장\n",
    "#이 내용에는 날짜별 영화이름과 평점이 저장됨\n",
    "movie = pd.DataFrame({'date':movie_date, 'name':movie_name, 'point':movie_point})\n",
    "movie['point'] = movie['point'].astype(float)\n",
    "movie.head()"
   ]
  },
  {
   "cell_type": "code",
   "execution_count": 20,
   "metadata": {},
   "outputs": [
    {
     "data": {
      "text/html": [
       "<div>\n",
       "<style scoped>\n",
       "    .dataframe tbody tr th:only-of-type {\n",
       "        vertical-align: middle;\n",
       "    }\n",
       "\n",
       "    .dataframe tbody tr th {\n",
       "        vertical-align: top;\n",
       "    }\n",
       "\n",
       "    .dataframe thead th {\n",
       "        text-align: right;\n",
       "    }\n",
       "</style>\n",
       "<table border=\"1\" class=\"dataframe\">\n",
       "  <thead>\n",
       "    <tr style=\"text-align: right;\">\n",
       "      <th></th>\n",
       "      <th>point</th>\n",
       "    </tr>\n",
       "    <tr>\n",
       "      <th>name</th>\n",
       "      <th></th>\n",
       "    </tr>\n",
       "  </thead>\n",
       "  <tbody>\n",
       "    <tr>\n",
       "      <th>소공녀</th>\n",
       "      <td>861.62</td>\n",
       "    </tr>\n",
       "    <tr>\n",
       "      <th>시카리오: 데이 오브 솔다도</th>\n",
       "      <td>850.18</td>\n",
       "    </tr>\n",
       "    <tr>\n",
       "      <th>걸어도 걸어도</th>\n",
       "      <td>829.77</td>\n",
       "    </tr>\n",
       "    <tr>\n",
       "      <th>당갈</th>\n",
       "      <td>762.32</td>\n",
       "    </tr>\n",
       "    <tr>\n",
       "      <th>어벤져스: 인피니티 워</th>\n",
       "      <td>707.70</td>\n",
       "    </tr>\n",
       "  </tbody>\n",
       "</table>\n",
       "</div>"
      ],
      "text/plain": [
       "                  point\n",
       "name                   \n",
       "소공녀              861.62\n",
       "시카리오: 데이 오브 솔다도  850.18\n",
       "걸어도 걸어도          829.77\n",
       "당갈               762.32\n",
       "어벤져스: 인피니티 워     707.70"
      ]
     },
     "execution_count": 20,
     "metadata": {},
     "output_type": "execute_result"
    }
   ],
   "source": [
    "#날짜가 아니라 영화별 점수의 합산 데이터를 위해 pivot_table 사용\n",
    "#Aggfunc으로 np.sum을 이용해서 합산을 해야 영화별 점수의 합계로 정렬됨\n",
    "import numpy as np\n",
    "\n",
    "movie_unique = pd.pivot_table(movie, index=['name'], aggfunc=np.sum)\n",
    "movie_best = movie_unique.sort_values(by='point', ascending=False)\n",
    "movie_best.head()"
   ]
  },
  {
   "cell_type": "code",
   "execution_count": 22,
   "metadata": {},
   "outputs": [
    {
     "data": {
      "text/html": [
       "<div>\n",
       "<style scoped>\n",
       "    .dataframe tbody tr th:only-of-type {\n",
       "        vertical-align: middle;\n",
       "    }\n",
       "\n",
       "    .dataframe tbody tr th {\n",
       "        vertical-align: top;\n",
       "    }\n",
       "\n",
       "    .dataframe thead th {\n",
       "        text-align: right;\n",
       "    }\n",
       "</style>\n",
       "<table border=\"1\" class=\"dataframe\">\n",
       "  <thead>\n",
       "    <tr style=\"text-align: right;\">\n",
       "      <th></th>\n",
       "      <th>date</th>\n",
       "      <th>name</th>\n",
       "      <th>point</th>\n",
       "    </tr>\n",
       "  </thead>\n",
       "  <tbody>\n",
       "    <tr>\n",
       "      <th>0</th>\n",
       "      <td>2018-07-01</td>\n",
       "      <td>당갈</td>\n",
       "      <td>9.60</td>\n",
       "    </tr>\n",
       "    <tr>\n",
       "      <th>92</th>\n",
       "      <td>2018-07-03</td>\n",
       "      <td>당갈</td>\n",
       "      <td>9.60</td>\n",
       "    </tr>\n",
       "    <tr>\n",
       "      <th>554</th>\n",
       "      <td>2018-07-13</td>\n",
       "      <td>당갈</td>\n",
       "      <td>9.58</td>\n",
       "    </tr>\n",
       "    <tr>\n",
       "      <th>602</th>\n",
       "      <td>2018-07-14</td>\n",
       "      <td>당갈</td>\n",
       "      <td>9.57</td>\n",
       "    </tr>\n",
       "    <tr>\n",
       "      <th>649</th>\n",
       "      <td>2018-07-15</td>\n",
       "      <td>당갈</td>\n",
       "      <td>9.57</td>\n",
       "    </tr>\n",
       "  </tbody>\n",
       "</table>\n",
       "</div>"
      ],
      "text/plain": [
       "          date name  point\n",
       "0   2018-07-01   당갈   9.60\n",
       "92  2018-07-03   당갈   9.60\n",
       "554 2018-07-13   당갈   9.58\n",
       "602 2018-07-14   당갈   9.57\n",
       "649 2018-07-15   당갈   9.57"
      ]
     },
     "execution_count": 22,
     "metadata": {},
     "output_type": "execute_result"
    }
   ],
   "source": [
    "#특정 영화 제목을 가지고 평점 확인 가능\n",
    "tmp = movie.query('name == [\"당갈\"]')\n",
    "tmp.head()"
   ]
  },
  {
   "cell_type": "code",
   "execution_count": 23,
   "metadata": {},
   "outputs": [
    {
     "data": {
      "image/png": "[encoded data removed]",
      "text/plain": [
       "<Figure size 864x576 with 1 Axes>"
      ]
     },
     "metadata": {},
     "output_type": "display_data"
    }
   ],
   "source": [
    "#특정 영화 제목을 저장한 변수 tmp의 날짜별 평점 변화 그래프 생성\n",
    "import matplotlib.pyplot as plt\n",
    "%matplotlib inline\n",
    "\n",
    "plt.figure(figsize=(12,8))\n",
    "plt.plot(tmp['date'], tmp['point'])\n",
    "plt.legend(loc='best')\n",
    "plt.grid()\n",
    "plt.show()"
   ]
  },
  {
   "cell_type": "code",
   "execution_count": 24,
   "metadata": {},
   "outputs": [
    {
     "data": {
      "text/html": [
       "<div>\n",
       "<style scoped>\n",
       "    .dataframe tbody tr th:only-of-type {\n",
       "        vertical-align: middle;\n",
       "    }\n",
       "\n",
       "    .dataframe tbody tr th {\n",
       "        vertical-align: top;\n",
       "    }\n",
       "\n",
       "    .dataframe thead tr th {\n",
       "        text-align: left;\n",
       "    }\n",
       "\n",
       "    .dataframe thead tr:last-of-type th {\n",
       "        text-align: right;\n",
       "    }\n",
       "</style>\n",
       "<table border=\"1\" class=\"dataframe\">\n",
       "  <thead>\n",
       "    <tr>\n",
       "      <th></th>\n",
       "      <th colspan=\"21\" halign=\"left\">point</th>\n",
       "    </tr>\n",
       "    <tr>\n",
       "      <th>name</th>\n",
       "      <th>1987</th>\n",
       "      <th>500일의 썸머</th>\n",
       "      <th>5일의 마중</th>\n",
       "      <th>개들의 섬</th>\n",
       "      <th>건축학개론</th>\n",
       "      <th>걸어도 걸어도</th>\n",
       "      <th>게이트</th>\n",
       "      <th>경성학교: 사라진 소녀들</th>\n",
       "      <th>고양이를 빌려드립니다</th>\n",
       "      <th>곤지암</th>\n",
       "      <th>...</th>\n",
       "      <th>피아니스트</th>\n",
       "      <th>피터 래빗</th>\n",
       "      <th>한여름의 판타지아</th>\n",
       "      <th>허스토리</th>\n",
       "      <th>혐오스런 마츠코의 일생</th>\n",
       "      <th>협상</th>\n",
       "      <th>호텔 아르테미스</th>\n",
       "      <th>환상의 빛</th>\n",
       "      <th>훌라 걸스</th>\n",
       "      <th>휘트니</th>\n",
       "    </tr>\n",
       "    <tr>\n",
       "      <th>date</th>\n",
       "      <th></th>\n",
       "      <th></th>\n",
       "      <th></th>\n",
       "      <th></th>\n",
       "      <th></th>\n",
       "      <th></th>\n",
       "      <th></th>\n",
       "      <th></th>\n",
       "      <th></th>\n",
       "      <th></th>\n",
       "      <th></th>\n",
       "      <th></th>\n",
       "      <th></th>\n",
       "      <th></th>\n",
       "      <th></th>\n",
       "      <th></th>\n",
       "      <th></th>\n",
       "      <th></th>\n",
       "      <th></th>\n",
       "      <th></th>\n",
       "      <th></th>\n",
       "    </tr>\n",
       "  </thead>\n",
       "  <tbody>\n",
       "    <tr>\n",
       "      <th>2018-07-01</th>\n",
       "      <td>NaN</td>\n",
       "      <td>NaN</td>\n",
       "      <td>NaN</td>\n",
       "      <td>9.03</td>\n",
       "      <td>NaN</td>\n",
       "      <td>8.66</td>\n",
       "      <td>3.75</td>\n",
       "      <td>NaN</td>\n",
       "      <td>NaN</td>\n",
       "      <td>NaN</td>\n",
       "      <td>...</td>\n",
       "      <td>NaN</td>\n",
       "      <td>8.97</td>\n",
       "      <td>NaN</td>\n",
       "      <td>9.55</td>\n",
       "      <td>NaN</td>\n",
       "      <td>NaN</td>\n",
       "      <td>NaN</td>\n",
       "      <td>8.01</td>\n",
       "      <td>NaN</td>\n",
       "      <td>NaN</td>\n",
       "    </tr>\n",
       "    <tr>\n",
       "      <th>2018-07-02</th>\n",
       "      <td>NaN</td>\n",
       "      <td>NaN</td>\n",
       "      <td>NaN</td>\n",
       "      <td>9.04</td>\n",
       "      <td>NaN</td>\n",
       "      <td>8.66</td>\n",
       "      <td>3.75</td>\n",
       "      <td>NaN</td>\n",
       "      <td>NaN</td>\n",
       "      <td>NaN</td>\n",
       "      <td>...</td>\n",
       "      <td>NaN</td>\n",
       "      <td>8.97</td>\n",
       "      <td>NaN</td>\n",
       "      <td>9.52</td>\n",
       "      <td>NaN</td>\n",
       "      <td>NaN</td>\n",
       "      <td>NaN</td>\n",
       "      <td>8.01</td>\n",
       "      <td>NaN</td>\n",
       "      <td>NaN</td>\n",
       "    </tr>\n",
       "    <tr>\n",
       "      <th>2018-07-03</th>\n",
       "      <td>NaN</td>\n",
       "      <td>NaN</td>\n",
       "      <td>NaN</td>\n",
       "      <td>9.01</td>\n",
       "      <td>NaN</td>\n",
       "      <td>8.66</td>\n",
       "      <td>3.75</td>\n",
       "      <td>NaN</td>\n",
       "      <td>NaN</td>\n",
       "      <td>NaN</td>\n",
       "      <td>...</td>\n",
       "      <td>NaN</td>\n",
       "      <td>8.97</td>\n",
       "      <td>NaN</td>\n",
       "      <td>9.52</td>\n",
       "      <td>NaN</td>\n",
       "      <td>NaN</td>\n",
       "      <td>NaN</td>\n",
       "      <td>8.01</td>\n",
       "      <td>NaN</td>\n",
       "      <td>NaN</td>\n",
       "    </tr>\n",
       "    <tr>\n",
       "      <th>2018-07-04</th>\n",
       "      <td>NaN</td>\n",
       "      <td>NaN</td>\n",
       "      <td>NaN</td>\n",
       "      <td>8.98</td>\n",
       "      <td>NaN</td>\n",
       "      <td>8.66</td>\n",
       "      <td>NaN</td>\n",
       "      <td>NaN</td>\n",
       "      <td>NaN</td>\n",
       "      <td>NaN</td>\n",
       "      <td>...</td>\n",
       "      <td>NaN</td>\n",
       "      <td>8.97</td>\n",
       "      <td>NaN</td>\n",
       "      <td>9.49</td>\n",
       "      <td>NaN</td>\n",
       "      <td>NaN</td>\n",
       "      <td>NaN</td>\n",
       "      <td>8.01</td>\n",
       "      <td>NaN</td>\n",
       "      <td>NaN</td>\n",
       "    </tr>\n",
       "    <tr>\n",
       "      <th>2018-07-05</th>\n",
       "      <td>NaN</td>\n",
       "      <td>NaN</td>\n",
       "      <td>NaN</td>\n",
       "      <td>8.97</td>\n",
       "      <td>NaN</td>\n",
       "      <td>8.66</td>\n",
       "      <td>NaN</td>\n",
       "      <td>NaN</td>\n",
       "      <td>NaN</td>\n",
       "      <td>NaN</td>\n",
       "      <td>...</td>\n",
       "      <td>NaN</td>\n",
       "      <td>8.97</td>\n",
       "      <td>NaN</td>\n",
       "      <td>9.49</td>\n",
       "      <td>NaN</td>\n",
       "      <td>NaN</td>\n",
       "      <td>NaN</td>\n",
       "      <td>8.01</td>\n",
       "      <td>NaN</td>\n",
       "      <td>NaN</td>\n",
       "    </tr>\n",
       "  </tbody>\n",
       "</table>\n",
       "<p>5 rows × 198 columns</p>\n",
       "</div>"
      ],
      "text/plain": [
       "           point                                                          \\\n",
       "name        1987 500일의 썸머 5일의 마중 개들의 섬 건축학개론 걸어도 걸어도   게이트 경성학교: 사라진 소녀들   \n",
       "date                                                                       \n",
       "2018-07-01   NaN      NaN    NaN  9.03   NaN    8.66  3.75           NaN   \n",
       "2018-07-02   NaN      NaN    NaN  9.04   NaN    8.66  3.75           NaN   \n",
       "2018-07-03   NaN      NaN    NaN  9.01   NaN    8.66  3.75           NaN   \n",
       "2018-07-04   NaN      NaN    NaN  8.98   NaN    8.66   NaN           NaN   \n",
       "2018-07-05   NaN      NaN    NaN  8.97   NaN    8.66   NaN           NaN   \n",
       "\n",
       "                           ...                                               \\\n",
       "name       고양이를 빌려드립니다 곤지암 ... 피아니스트 피터 래빗 한여름의 판타지아  허스토리 혐오스런 마츠코의 일생  협상   \n",
       "date                       ...                                                \n",
       "2018-07-01         NaN NaN ...   NaN  8.97       NaN  9.55          NaN NaN   \n",
       "2018-07-02         NaN NaN ...   NaN  8.97       NaN  9.52          NaN NaN   \n",
       "2018-07-03         NaN NaN ...   NaN  8.97       NaN  9.52          NaN NaN   \n",
       "2018-07-04         NaN NaN ...   NaN  8.97       NaN  9.49          NaN NaN   \n",
       "2018-07-05         NaN NaN ...   NaN  8.97       NaN  9.49          NaN NaN   \n",
       "\n",
       "                                     \n",
       "name       호텔 아르테미스 환상의 빛 훌라 걸스 휘트니  \n",
       "date                                 \n",
       "2018-07-01      NaN  8.01   NaN NaN  \n",
       "2018-07-02      NaN  8.01   NaN NaN  \n",
       "2018-07-03      NaN  8.01   NaN NaN  \n",
       "2018-07-04      NaN  8.01   NaN NaN  \n",
       "2018-07-05      NaN  8.01   NaN NaN  \n",
       "\n",
       "[5 rows x 198 columns]"
      ]
     },
     "execution_count": 24,
     "metadata": {},
     "output_type": "execute_result"
    }
   ],
   "source": [
    "#날짜별로 정리되어있던 데이터를 pivot_table을 이용해 세로축은 날짜를,\n",
    "#가로축은 영화제목으로 재정리\n",
    "movie_pivot = pd.pivot_table(movie, index=['date'], columns=['name'], values=['point'])\n",
    "\n",
    "movie_pivot.head()"
   ]
  },
  {
   "cell_type": "code",
   "execution_count": 26,
   "metadata": {},
   "outputs": [],
   "source": [
    "#데이터에서 pivot_table의 결과로 붙은 제목 컬럼 하나 정리\n",
    "movie_pivot.columns = movie_pivot.columns.droplevel()"
   ]
  },
  {
   "cell_type": "code",
   "execution_count": 27,
   "metadata": {},
   "outputs": [
    {
     "data": {
      "text/html": [
       "<div>\n",
       "<style scoped>\n",
       "    .dataframe tbody tr th:only-of-type {\n",
       "        vertical-align: middle;\n",
       "    }\n",
       "\n",
       "    .dataframe tbody tr th {\n",
       "        vertical-align: top;\n",
       "    }\n",
       "\n",
       "    .dataframe thead th {\n",
       "        text-align: right;\n",
       "    }\n",
       "</style>\n",
       "<table border=\"1\" class=\"dataframe\">\n",
       "  <thead>\n",
       "    <tr style=\"text-align: right;\">\n",
       "      <th>name</th>\n",
       "      <th>1987</th>\n",
       "      <th>500일의 썸머</th>\n",
       "      <th>5일의 마중</th>\n",
       "      <th>개들의 섬</th>\n",
       "      <th>건축학개론</th>\n",
       "      <th>걸어도 걸어도</th>\n",
       "      <th>게이트</th>\n",
       "      <th>경성학교: 사라진 소녀들</th>\n",
       "      <th>고양이를 빌려드립니다</th>\n",
       "      <th>곤지암</th>\n",
       "      <th>...</th>\n",
       "      <th>피아니스트</th>\n",
       "      <th>피터 래빗</th>\n",
       "      <th>한여름의 판타지아</th>\n",
       "      <th>허스토리</th>\n",
       "      <th>혐오스런 마츠코의 일생</th>\n",
       "      <th>협상</th>\n",
       "      <th>호텔 아르테미스</th>\n",
       "      <th>환상의 빛</th>\n",
       "      <th>훌라 걸스</th>\n",
       "      <th>휘트니</th>\n",
       "    </tr>\n",
       "    <tr>\n",
       "      <th>date</th>\n",
       "      <th></th>\n",
       "      <th></th>\n",
       "      <th></th>\n",
       "      <th></th>\n",
       "      <th></th>\n",
       "      <th></th>\n",
       "      <th></th>\n",
       "      <th></th>\n",
       "      <th></th>\n",
       "      <th></th>\n",
       "      <th></th>\n",
       "      <th></th>\n",
       "      <th></th>\n",
       "      <th></th>\n",
       "      <th></th>\n",
       "      <th></th>\n",
       "      <th></th>\n",
       "      <th></th>\n",
       "      <th></th>\n",
       "      <th></th>\n",
       "      <th></th>\n",
       "    </tr>\n",
       "  </thead>\n",
       "  <tbody>\n",
       "    <tr>\n",
       "      <th>2018-07-01</th>\n",
       "      <td>NaN</td>\n",
       "      <td>NaN</td>\n",
       "      <td>NaN</td>\n",
       "      <td>9.03</td>\n",
       "      <td>NaN</td>\n",
       "      <td>8.66</td>\n",
       "      <td>3.75</td>\n",
       "      <td>NaN</td>\n",
       "      <td>NaN</td>\n",
       "      <td>NaN</td>\n",
       "      <td>...</td>\n",
       "      <td>NaN</td>\n",
       "      <td>8.97</td>\n",
       "      <td>NaN</td>\n",
       "      <td>9.55</td>\n",
       "      <td>NaN</td>\n",
       "      <td>NaN</td>\n",
       "      <td>NaN</td>\n",
       "      <td>8.01</td>\n",
       "      <td>NaN</td>\n",
       "      <td>NaN</td>\n",
       "    </tr>\n",
       "    <tr>\n",
       "      <th>2018-07-02</th>\n",
       "      <td>NaN</td>\n",
       "      <td>NaN</td>\n",
       "      <td>NaN</td>\n",
       "      <td>9.04</td>\n",
       "      <td>NaN</td>\n",
       "      <td>8.66</td>\n",
       "      <td>3.75</td>\n",
       "      <td>NaN</td>\n",
       "      <td>NaN</td>\n",
       "      <td>NaN</td>\n",
       "      <td>...</td>\n",
       "      <td>NaN</td>\n",
       "      <td>8.97</td>\n",
       "      <td>NaN</td>\n",
       "      <td>9.52</td>\n",
       "      <td>NaN</td>\n",
       "      <td>NaN</td>\n",
       "      <td>NaN</td>\n",
       "      <td>8.01</td>\n",
       "      <td>NaN</td>\n",
       "      <td>NaN</td>\n",
       "    </tr>\n",
       "    <tr>\n",
       "      <th>2018-07-03</th>\n",
       "      <td>NaN</td>\n",
       "      <td>NaN</td>\n",
       "      <td>NaN</td>\n",
       "      <td>9.01</td>\n",
       "      <td>NaN</td>\n",
       "      <td>8.66</td>\n",
       "      <td>3.75</td>\n",
       "      <td>NaN</td>\n",
       "      <td>NaN</td>\n",
       "      <td>NaN</td>\n",
       "      <td>...</td>\n",
       "      <td>NaN</td>\n",
       "      <td>8.97</td>\n",
       "      <td>NaN</td>\n",
       "      <td>9.52</td>\n",
       "      <td>NaN</td>\n",
       "      <td>NaN</td>\n",
       "      <td>NaN</td>\n",
       "      <td>8.01</td>\n",
       "      <td>NaN</td>\n",
       "      <td>NaN</td>\n",
       "    </tr>\n",
       "    <tr>\n",
       "      <th>2018-07-04</th>\n",
       "      <td>NaN</td>\n",
       "      <td>NaN</td>\n",
       "      <td>NaN</td>\n",
       "      <td>8.98</td>\n",
       "      <td>NaN</td>\n",
       "      <td>8.66</td>\n",
       "      <td>NaN</td>\n",
       "      <td>NaN</td>\n",
       "      <td>NaN</td>\n",
       "      <td>NaN</td>\n",
       "      <td>...</td>\n",
       "      <td>NaN</td>\n",
       "      <td>8.97</td>\n",
       "      <td>NaN</td>\n",
       "      <td>9.49</td>\n",
       "      <td>NaN</td>\n",
       "      <td>NaN</td>\n",
       "      <td>NaN</td>\n",
       "      <td>8.01</td>\n",
       "      <td>NaN</td>\n",
       "      <td>NaN</td>\n",
       "    </tr>\n",
       "    <tr>\n",
       "      <th>2018-07-05</th>\n",
       "      <td>NaN</td>\n",
       "      <td>NaN</td>\n",
       "      <td>NaN</td>\n",
       "      <td>8.97</td>\n",
       "      <td>NaN</td>\n",
       "      <td>8.66</td>\n",
       "      <td>NaN</td>\n",
       "      <td>NaN</td>\n",
       "      <td>NaN</td>\n",
       "      <td>NaN</td>\n",
       "      <td>...</td>\n",
       "      <td>NaN</td>\n",
       "      <td>8.97</td>\n",
       "      <td>NaN</td>\n",
       "      <td>9.49</td>\n",
       "      <td>NaN</td>\n",
       "      <td>NaN</td>\n",
       "      <td>NaN</td>\n",
       "      <td>8.01</td>\n",
       "      <td>NaN</td>\n",
       "      <td>NaN</td>\n",
       "    </tr>\n",
       "  </tbody>\n",
       "</table>\n",
       "<p>5 rows × 198 columns</p>\n",
       "</div>"
      ],
      "text/plain": [
       "name        1987  500일의 썸머  5일의 마중  개들의 섬  건축학개론  걸어도 걸어도   게이트  \\\n",
       "date                                                              \n",
       "2018-07-01   NaN       NaN     NaN   9.03    NaN     8.66  3.75   \n",
       "2018-07-02   NaN       NaN     NaN   9.04    NaN     8.66  3.75   \n",
       "2018-07-03   NaN       NaN     NaN   9.01    NaN     8.66  3.75   \n",
       "2018-07-04   NaN       NaN     NaN   8.98    NaN     8.66   NaN   \n",
       "2018-07-05   NaN       NaN     NaN   8.97    NaN     8.66   NaN   \n",
       "\n",
       "name        경성학교: 사라진 소녀들  고양이를 빌려드립니다  곤지암 ...   피아니스트  피터 래빗  한여름의 판타지아  \\\n",
       "date                                        ...                             \n",
       "2018-07-01            NaN          NaN  NaN ...     NaN   8.97        NaN   \n",
       "2018-07-02            NaN          NaN  NaN ...     NaN   8.97        NaN   \n",
       "2018-07-03            NaN          NaN  NaN ...     NaN   8.97        NaN   \n",
       "2018-07-04            NaN          NaN  NaN ...     NaN   8.97        NaN   \n",
       "2018-07-05            NaN          NaN  NaN ...     NaN   8.97        NaN   \n",
       "\n",
       "name        허스토리  혐오스런 마츠코의 일생  협상  호텔 아르테미스  환상의 빛  훌라 걸스  휘트니  \n",
       "date                                                             \n",
       "2018-07-01  9.55           NaN NaN       NaN   8.01    NaN  NaN  \n",
       "2018-07-02  9.52           NaN NaN       NaN   8.01    NaN  NaN  \n",
       "2018-07-03  9.52           NaN NaN       NaN   8.01    NaN  NaN  \n",
       "2018-07-04  9.49           NaN NaN       NaN   8.01    NaN  NaN  \n",
       "2018-07-05  9.49           NaN NaN       NaN   8.01    NaN  NaN  \n",
       "\n",
       "[5 rows x 198 columns]"
      ]
     },
     "execution_count": 27,
     "metadata": {},
     "output_type": "execute_result"
    }
   ],
   "source": [
    "movie_pivot.head()"
   ]
  },
  {
   "cell_type": "code",
   "execution_count": 28,
   "metadata": {},
   "outputs": [],
   "source": [
    "import platform\n",
    "\n",
    "path = \"c://Windows/Fonts/malgun.ttf\"\n",
    "from matplotlib import font_manager, rc\n",
    "if platform.system() == 'Darwin':\n",
    "    rc('font', family='AppleGothic')\n",
    "elif platform.system() == 'Windows':\n",
    "    font_name = font_manager.FontProperties(fname=path).get_name()\n",
    "    rc('font', family=font_name)\n",
    "else:\n",
    "    print('Unknown system')"
   ]
  },
  {
   "cell_type": "code",
   "execution_count": 29,
   "metadata": {},
   "outputs": [
    {
     "data": {
      "image/png": "[encoded data removed]",
      "text/plain": [
       "<Figure size 864x432 with 1 Axes>"
      ]
     },
     "metadata": {},
     "output_type": "display_data"
    }
   ],
   "source": [
    "movie_pivot.plot(y=['곤지암','1987','피아니스트','허스토리'],figsize=(12,6))\n",
    "plt.legend(loc='best')\n",
    "plt.grid()\n",
    "plt.show()"
   ]
  }
 ],
 "metadata": {
  "kernelspec": {
   "display_name": "Python 3",
   "language": "python",
   "name": "python3"
  },
  "language_info": {
   "codemirror_mode": {
    "name": "ipython",
    "version": 3
   },
   "file_extension": ".py",
   "mimetype": "text/x-python",
   "name": "python",
   "nbconvert_exporter": "python",
   "pygments_lexer": "ipython3",
   "version": "3.6.5"
  }
 },
 "nbformat": 4,
 "nbformat_minor": 2
}
